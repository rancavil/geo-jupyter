{
 "cells": [
  {
   "cell_type": "code",
   "execution_count": 1,
   "id": "3c69a453-d271-44e6-8369-02592cd134dd",
   "metadata": {},
   "outputs": [],
   "source": [
    "import pandas as pd\n",
    "from IPython.display import GeoJSON"
   ]
  },
  {
   "cell_type": "markdown",
   "id": "d3fd1b7f-6c24-48ad-acb7-69974583cd43",
   "metadata": {},
   "source": [
    "### Datasource : Dataset\n",
    "\n",
    "Data Driven Detroit created the data by selecting locations from NETS and ESRI business data with proper NAICS codes.\n",
    "\n",
    "https://data.ferndalemi.gov/datasets/D3::grocery-stores.csv\n",
    "\n",
    "We can get the CSV file and create the dataframe using the URL.\n",
    "\n",
    "Or, we can download the File Grocery_Stores.csv and use it to create the dataframe."
   ]
  },
  {
   "cell_type": "code",
   "execution_count": 2,
   "id": "bb0c25eb-c6fb-4e16-ad36-476f35c3e577",
   "metadata": {},
   "outputs": [],
   "source": [
    "df_groceries = pd.read_csv(\"https://data.ferndalemi.gov/datasets/D3::grocery-stores.csv\")"
   ]
  },
  {
   "cell_type": "code",
   "execution_count": 3,
   "id": "353712fb-e7b3-4e8d-b6ca-b0bd0600532e",
   "metadata": {},
   "outputs": [
    {
     "data": {
      "text/html": [
       "<div>\n",
       "<style scoped>\n",
       "    .dataframe tbody tr th:only-of-type {\n",
       "        vertical-align: middle;\n",
       "    }\n",
       "\n",
       "    .dataframe tbody tr th {\n",
       "        vertical-align: top;\n",
       "    }\n",
       "\n",
       "    .dataframe thead th {\n",
       "        text-align: right;\n",
       "    }\n",
       "</style>\n",
       "<table border=\"1\" class=\"dataframe\">\n",
       "  <thead>\n",
       "    <tr style=\"text-align: right;\">\n",
       "      <th></th>\n",
       "      <th>OBJECTID</th>\n",
       "      <th>Company</th>\n",
       "      <th>Address</th>\n",
       "      <th>City</th>\n",
       "      <th>State</th>\n",
       "      <th>ZipCode</th>\n",
       "      <th>Better_Lat</th>\n",
       "      <th>Better_Long</th>\n",
       "      <th>SquareFeet</th>\n",
       "      <th>Common_Name</th>\n",
       "      <th>Notes</th>\n",
       "      <th>PHONE</th>\n",
       "      <th>FAX</th>\n",
       "      <th>EMAIL</th>\n",
       "      <th>WEBSITE</th>\n",
       "      <th>DIG_MEMBER</th>\n",
       "      <th>Data_Source</th>\n",
       "      <th>Centroid_X</th>\n",
       "      <th>Centroid_Y</th>\n",
       "      <th>ORIG_FID</th>\n",
       "    </tr>\n",
       "  </thead>\n",
       "  <tbody>\n",
       "    <tr>\n",
       "      <th>0</th>\n",
       "      <td>1</td>\n",
       "      <td>NAFSU ENTERPRISES INC                         ...</td>\n",
       "      <td>10320 PLYMOUTH RD                             ...</td>\n",
       "      <td>DETROIT</td>\n",
       "      <td>MI</td>\n",
       "      <td>48204</td>\n",
       "      <td>42.373652</td>\n",
       "      <td>-83.162775</td>\n",
       "      <td>15879.452103</td>\n",
       "      <td>Shop A Lot Food Center</td>\n",
       "      <td>NaN</td>\n",
       "      <td>NaN</td>\n",
       "      <td>NaN</td>\n",
       "      <td>NaN</td>\n",
       "      <td>NaN</td>\n",
       "      <td>NaN</td>\n",
       "      <td>NETS/Devries</td>\n",
       "      <td>-83.162894</td>\n",
       "      <td>42.373634</td>\n",
       "      <td>1.0</td>\n",
       "    </tr>\n",
       "    <tr>\n",
       "      <th>1</th>\n",
       "      <td>2</td>\n",
       "      <td>RED FOX FOODLAND                              ...</td>\n",
       "      <td>10333 FENKELL ST                              ...</td>\n",
       "      <td>DETROIT</td>\n",
       "      <td>MI</td>\n",
       "      <td>48238</td>\n",
       "      <td>42.402180</td>\n",
       "      <td>-83.163377</td>\n",
       "      <td>16130.740855</td>\n",
       "      <td>Red Fox Foodland</td>\n",
       "      <td>NaN</td>\n",
       "      <td>NaN</td>\n",
       "      <td>NaN</td>\n",
       "      <td>NaN</td>\n",
       "      <td>NaN</td>\n",
       "      <td>NaN</td>\n",
       "      <td>NETS/Devries</td>\n",
       "      <td>-83.163460</td>\n",
       "      <td>42.402178</td>\n",
       "      <td>2.0</td>\n",
       "    </tr>\n",
       "    <tr>\n",
       "      <th>2</th>\n",
       "      <td>3</td>\n",
       "      <td>X Z INC                                       ...</td>\n",
       "      <td>11100 MACK AVE                                ...</td>\n",
       "      <td>DETROIT</td>\n",
       "      <td>MI</td>\n",
       "      <td>48214</td>\n",
       "      <td>42.377829</td>\n",
       "      <td>-82.980885</td>\n",
       "      <td>14160.290542</td>\n",
       "      <td>NaN</td>\n",
       "      <td>Closed. Building for sale and phone off. - RL</td>\n",
       "      <td>NaN</td>\n",
       "      <td>NaN</td>\n",
       "      <td>NaN</td>\n",
       "      <td>NaN</td>\n",
       "      <td>NaN</td>\n",
       "      <td>NETS/Devries</td>\n",
       "      <td>-82.980411</td>\n",
       "      <td>42.378031</td>\n",
       "      <td>3.0</td>\n",
       "    </tr>\n",
       "    <tr>\n",
       "      <th>3</th>\n",
       "      <td>4</td>\n",
       "      <td>UNIVERSITY FOOD CENTER INC                    ...</td>\n",
       "      <td>1131 W WARREN AVE                             ...</td>\n",
       "      <td>DETROIT</td>\n",
       "      <td>MI</td>\n",
       "      <td>48201</td>\n",
       "      <td>42.353200</td>\n",
       "      <td>-83.074400</td>\n",
       "      <td>22100.821554</td>\n",
       "      <td>University Foods</td>\n",
       "      <td>NaN</td>\n",
       "      <td>(313) 833-0815</td>\n",
       "      <td>(313) 833-5648</td>\n",
       "      <td>nyaldoo@spartanstores.com</td>\n",
       "      <td>http://universityfoodsmidtown.com/</td>\n",
       "      <td>Yes</td>\n",
       "      <td>NETS/Devries</td>\n",
       "      <td>-83.074478</td>\n",
       "      <td>42.352644</td>\n",
       "      <td>4.0</td>\n",
       "    </tr>\n",
       "    <tr>\n",
       "      <th>4</th>\n",
       "      <td>5</td>\n",
       "      <td>SAVE A LOT                                    ...</td>\n",
       "      <td>11825 WOODWARD AVE</td>\n",
       "      <td>DETROIT</td>\n",
       "      <td>MI</td>\n",
       "      <td>48203</td>\n",
       "      <td>42.393700</td>\n",
       "      <td>-83.089300</td>\n",
       "      <td>16124.320667</td>\n",
       "      <td>Save A Lot</td>\n",
       "      <td>Not in Detroit?  Seems to be in Highland Park RL</td>\n",
       "      <td>NaN</td>\n",
       "      <td>NaN</td>\n",
       "      <td>NaN</td>\n",
       "      <td>NaN</td>\n",
       "      <td>NaN</td>\n",
       "      <td>NETS/Devries</td>\n",
       "      <td>-83.089592</td>\n",
       "      <td>42.393828</td>\n",
       "      <td>5.0</td>\n",
       "    </tr>\n",
       "  </tbody>\n",
       "</table>\n",
       "</div>"
      ],
      "text/plain": [
       "   OBJECTID                                            Company  \\\n",
       "0         1  NAFSU ENTERPRISES INC                         ...   \n",
       "1         2  RED FOX FOODLAND                              ...   \n",
       "2         3  X Z INC                                       ...   \n",
       "3         4  UNIVERSITY FOOD CENTER INC                    ...   \n",
       "4         5  SAVE A LOT                                    ...   \n",
       "\n",
       "                                             Address  \\\n",
       "0  10320 PLYMOUTH RD                             ...   \n",
       "1  10333 FENKELL ST                              ...   \n",
       "2  11100 MACK AVE                                ...   \n",
       "3  1131 W WARREN AVE                             ...   \n",
       "4                                 11825 WOODWARD AVE   \n",
       "\n",
       "                             City State  ZipCode  Better_Lat  Better_Long  \\\n",
       "0  DETROIT                           MI    48204   42.373652   -83.162775   \n",
       "1  DETROIT                           MI    48238   42.402180   -83.163377   \n",
       "2  DETROIT                           MI    48214   42.377829   -82.980885   \n",
       "3  DETROIT                           MI    48201   42.353200   -83.074400   \n",
       "4  DETROIT                           MI    48203   42.393700   -83.089300   \n",
       "\n",
       "     SquareFeet             Common_Name  \\\n",
       "0  15879.452103  Shop A Lot Food Center   \n",
       "1  16130.740855        Red Fox Foodland   \n",
       "2  14160.290542                     NaN   \n",
       "3  22100.821554        University Foods   \n",
       "4  16124.320667              Save A Lot   \n",
       "\n",
       "                                              Notes           PHONE  \\\n",
       "0                                               NaN             NaN   \n",
       "1                                               NaN             NaN   \n",
       "2     Closed. Building for sale and phone off. - RL             NaN   \n",
       "3                                               NaN  (313) 833-0815   \n",
       "4  Not in Detroit?  Seems to be in Highland Park RL             NaN   \n",
       "\n",
       "              FAX                      EMAIL  \\\n",
       "0             NaN                        NaN   \n",
       "1             NaN                        NaN   \n",
       "2             NaN                        NaN   \n",
       "3  (313) 833-5648  nyaldoo@spartanstores.com   \n",
       "4             NaN                        NaN   \n",
       "\n",
       "                              WEBSITE DIG_MEMBER   Data_Source  Centroid_X  \\\n",
       "0                                 NaN        NaN  NETS/Devries  -83.162894   \n",
       "1                                 NaN        NaN  NETS/Devries  -83.163460   \n",
       "2                                 NaN        NaN  NETS/Devries  -82.980411   \n",
       "3  http://universityfoodsmidtown.com/        Yes  NETS/Devries  -83.074478   \n",
       "4                                 NaN        NaN  NETS/Devries  -83.089592   \n",
       "\n",
       "   Centroid_Y  ORIG_FID  \n",
       "0   42.373634       1.0  \n",
       "1   42.402178       2.0  \n",
       "2   42.378031       3.0  \n",
       "3   42.352644       4.0  \n",
       "4   42.393828       5.0  "
      ]
     },
     "execution_count": 3,
     "metadata": {},
     "output_type": "execute_result"
    }
   ],
   "source": [
    "df_groceries.head(5)"
   ]
  },
  {
   "cell_type": "code",
   "execution_count": 4,
   "id": "cd8b0617-5e53-4105-8b32-d517315c31b0",
   "metadata": {},
   "outputs": [],
   "source": [
    "df_groceries = df_groceries.dropna(subset=[\"Better_Lat\", \"Better_Long\"])\n",
    "features = []\n",
    "for _, store in df_groceries.iterrows():\n",
    "    feature =  {\n",
    "        \"type\": \"Feature\",\n",
    "        \"geometry\": {\"type\": \"Point\", \"coordinates\": [store.Better_Long, store.Better_Lat]},\n",
    "        \"properties\": {\"Store\": store.Company, \"City\": store.City}\n",
    "    }\n",
    "    features.append(feature)"
   ]
  },
  {
   "cell_type": "code",
   "execution_count": 5,
   "id": "b13692e7-7955-4c13-abc8-f680d0339f2a",
   "metadata": {},
   "outputs": [],
   "source": [
    "stores = GeoJSON(\n",
    "    {\n",
    "        \"type\": \"FeatureCollection\",\n",
    "        \"features\": features\n",
    "    }\n",
    ")"
   ]
  },
  {
   "cell_type": "code",
   "execution_count": 6,
   "id": "8f8f9d47-1084-4637-afb0-817b80e3e8fa",
   "metadata": {},
   "outputs": [
    {
     "data": {
      "application/geo+json": {
       "features": [
        {
         "geometry": {
          "coordinates": [
           -83.162775,
           42.373652
          ],
          "type": "Point"
         },
         "properties": {
          "City": "DETROIT                       ",
          "Store": "NAFSU ENTERPRISES INC                             "
         },
         "type": "Feature"
        },
        {
         "geometry": {
          "coordinates": [
           -83.163377,
           42.40218
          ],
          "type": "Point"
         },
         "properties": {
          "City": "DETROIT                       ",
          "Store": "RED FOX FOODLAND                                  "
         },
         "type": "Feature"
        },
        {
         "geometry": {
          "coordinates": [
           -82.980885,
           42.377829
          ],
          "type": "Point"
         },
         "properties": {
          "City": "DETROIT                       ",
          "Store": "X Z INC                                           "
         },
         "type": "Feature"
        },
        {
         "geometry": {
          "coordinates": [
           -83.0744,
           42.3532
          ],
          "type": "Point"
         },
         "properties": {
          "City": "DETROIT                       ",
          "Store": "UNIVERSITY FOOD CENTER INC                        "
         },
         "type": "Feature"
        },
        {
         "geometry": {
          "coordinates": [
           -83.0893,
           42.3937
          ],
          "type": "Point"
         },
         "properties": {
          "City": "DETROIT                       ",
          "Store": "SAVE A LOT                                        "
         },
         "type": "Feature"
        },
        {
         "geometry": {
          "coordinates": [
           -82.9516,
           42.4266
          ],
          "type": "Point"
         },
         "properties": {
          "City": "DETROIT                       ",
          "Store": "MR CS SUPERMARKET INC                             "
         },
         "type": "Feature"
        },
        {
         "geometry": {
          "coordinates": [
           -83.057026,
           42.409509
          ],
          "type": "Point"
         },
         "properties": {
          "City": "DETROIT                       ",
          "Store": "BISHR POULTRY & FOOD CENTER                       "
         },
         "type": "Feature"
        },
        {
         "geometry": {
          "coordinates": [
           -83.060241,
           42.410665
          ],
          "type": "Point"
         },
         "properties": {
          "City": "DETROIT                       ",
          "Store": "GOLDEN BENGAL SEAFOOD INC                         "
         },
         "type": "Feature"
        },
        {
         "geometry": {
          "coordinates": [
           -82.9877,
           42.4195
          ],
          "type": "Point"
         },
         "properties": {
          "City": "DETROIT                       ",
          "Store": "BASHAR & MARK BROTHERS MKT INC                    "
         },
         "type": "Feature"
        },
        {
         "geometry": {
          "coordinates": [
           -83.1712,
           42.3816
          ],
          "type": "Point"
         },
         "properties": {
          "City": "DETROIT                       ",
          "Store": "GRAND PRICE INC                                   "
         },
         "type": "Feature"
        },
        {
         "geometry": {
          "coordinates": [
           -82.9501,
           42.3707
          ],
          "type": "Point"
         },
         "properties": {
          "City": "DETROIT                       ",
          "Store": "NOYER INC                                         "
         },
         "type": "Feature"
        },
        {
         "geometry": {
          "coordinates": [
           -82.9685,
           42.4036
          ],
          "type": "Point"
         },
         "properties": {
          "City": "DETROIT                       ",
          "Store": "JOLIET INC                                        "
         },
         "type": "Feature"
        },
        {
         "geometry": {
          "coordinates": [
           -83.197491,
           42.389206
          ],
          "type": "Point"
         },
         "properties": {
          "City": "DETROIT                       ",
          "Store": "PASADENA INC                                      "
         },
         "type": "Feature"
        },
        {
         "geometry": {
          "coordinates": [
           -83.123177,
           42.305363
          ],
          "type": "Point"
         },
         "properties": {
          "City": "DETROIT                       ",
          "Store": "QUICK SHOP MARKET INC                             "
         },
         "type": "Feature"
        },
        {
         "geometry": {
          "coordinates": [
           -83.177884,
           42.394397
          ],
          "type": "Point"
         },
         "properties": {
          "City": "DETROIT                       ",
          "Store": "SHKAGA INC                                        "
         },
         "type": "Feature"
        },
        {
         "geometry": {
          "coordinates": [
           -83.201595,
           42.343842
          ],
          "type": "Point"
         },
         "properties": {
          "City": "DETROIT                       ",
          "Store": "RIVERS LAND SUPERMARKET                           "
         },
         "type": "Feature"
        },
        {
         "geometry": {
          "coordinates": [
           -83.097309,
           42.318413
          ],
          "type": "Point"
         },
         "properties": {
          "City": "DETROIT                       ",
          "Store": "MEXICANTOWN SUPERMERCADO                          "
         },
         "type": "Feature"
        },
        {
         "geometry": {
          "coordinates": [
           -83.2064,
           42.4012
          ],
          "type": "Point"
         },
         "properties": {
          "City": "DETROIT                       ",
          "Store": "FENKELL SUPER MARKET INC                          "
         },
         "type": "Feature"
        },
        {
         "geometry": {
          "coordinates": [
           -83.2052,
           42.3723
          ],
          "type": "Point"
         },
         "properties": {
          "City": "DETROIT                       ",
          "Store": "GATEAY SUPERMARKET                                "
         },
         "type": "Feature"
        },
        {
         "geometry": {
          "coordinates": [
           -83.205186,
           42.34381
          ],
          "type": "Point"
         },
         "properties": {
          "City": "DETROIT                       ",
          "Store": "TRADING INCORPORATED SAAD                         "
         },
         "type": "Feature"
        },
        {
         "geometry": {
          "coordinates": [
           -83.178827,
           42.415471
          ],
          "type": "Point"
         },
         "properties": {
          "City": "DETROIT                       ",
          "Store": "LOUIS K INC                                       "
         },
         "type": "Feature"
        },
        {
         "geometry": {
          "coordinates": [
           -83.212489,
           42.34315
          ],
          "type": "Point"
         },
         "properties": {
          "City": "DETROIT                       ",
          "Store": "BARAKAH GROCERY                                   "
         },
         "type": "Feature"
        },
        {
         "geometry": {
          "coordinates": [
           -83.065922,
           42.32962
          ],
          "type": "Point"
         },
         "properties": {
          "City": "DETROIT                       ",
          "Store": "CORKTOWN MARKET                                   "
         },
         "type": "Feature"
        },
        {
         "geometry": {
          "coordinates": [
           -83.214297,
           42.386462
          ],
          "type": "Point"
         },
         "properties": {
          "City": "DETROIT                       ",
          "Store": "DE BRUCE CO                                       "
         },
         "type": "Feature"
        },
        {
         "geometry": {
          "coordinates": [
           -83.214754,
           42.358206
          ],
          "type": "Point"
         },
         "properties": {
          "City": "DETROIT                       ",
          "Store": "PIC-PAK SUPER MARKET                              "
         },
         "type": "Feature"
        },
        {
         "geometry": {
          "coordinates": [
           -83.219691,
           42.365614
          ],
          "type": "Point"
         },
         "properties": {
          "City": "DETROIT                       ",
          "Store": "SEAWAY MARKET PLACE                               "
         },
         "type": "Feature"
        },
        {
         "geometry": {
          "coordinates": [
           -83.221119,
           42.343594
          ],
          "type": "Point"
         },
         "properties": {
          "City": "DETROIT                       ",
          "Store": "WARRENDALE FRUIT MARKET                           "
         },
         "type": "Feature"
        },
        {
         "geometry": {
          "coordinates": [
           -83.22326,
           42.402083
          ],
          "type": "Point"
         },
         "properties": {
          "City": "DETROIT                       ",
          "Store": "METRO FOODS INC                                   "
         },
         "type": "Feature"
        },
        {
         "geometry": {
          "coordinates": [
           -83.10202,
           42.431975
          ],
          "type": "Point"
         },
         "properties": {
          "City": "DETROIT                       ",
          "Store": "JOHN R FOOD MARKET                                "
         },
         "type": "Feature"
        },
        {
         "geometry": {
          "coordinates": [
           -83.125352,
           42.309335
          ],
          "type": "Point"
         },
         "properties": {
          "City": "DETROIT                       ",
          "Store": "CARNICERIA GUADALAJARA                            "
         },
         "type": "Feature"
        },
        {
         "geometry": {
          "coordinates": [
           -83.233248,
           42.342887
          ],
          "type": "Point"
         },
         "properties": {
          "City": "DETROIT                       ",
          "Store": "GREEN VALLEY GROCERY LLC                          "
         },
         "type": "Feature"
        },
        {
         "geometry": {
          "coordinates": [
           -83.238969,
           42.357126
          ],
          "type": "Point"
         },
         "properties": {
          "City": "DETROIT                       ",
          "Store": "KASSA FOODS INC                                   "
         },
         "type": "Feature"
        },
        {
         "geometry": {
          "coordinates": [
           -83.12583,
           42.309994
          ],
          "type": "Point"
         },
         "properties": {
          "City": "DETROIT                       ",
          "Store": "BILLYS PRODUCE INC                                "
         },
         "type": "Feature"
        },
        {
         "geometry": {
          "coordinates": [
           -83.077159,
           42.425511
          ],
          "type": "Point"
         },
         "properties": {
          "City": "DETROIT                       ",
          "Store": "NEVADA SUPERMARKET INC                            "
         },
         "type": "Feature"
        },
        {
         "geometry": {
          "coordinates": [
           -83.131567,
           42.312621
          ],
          "type": "Point"
         },
         "properties": {
          "City": "DETROIT                       ",
          "Store": "SUPERMERCADO LABARCA INC                          "
         },
         "type": "Feature"
        },
        {
         "geometry": {
          "coordinates": [
           -83.085261,
           42.324666
          ],
          "type": "Point"
         },
         "properties": {
          "City": "DETROIT                       ",
          "Store": "VERNOR SUPERMARKET INC                            "
         },
         "type": "Feature"
        },
        {
         "geometry": {
          "coordinates": [
           -83.093559,
           42.331635
          ],
          "type": "Point"
         },
         "properties": {
          "City": "DETROIT                       ",
          "Store": "AMBASSADOR MARKET                                 "
         },
         "type": "Feature"
        },
        {
         "geometry": {
          "coordinates": [
           -83.0908,
           42.322
          ],
          "type": "Point"
         },
         "properties": {
          "City": "DETROIT                       ",
          "Store": "LA MEXICANA                                       "
         },
         "type": "Feature"
        },
        {
         "geometry": {
          "coordinates": [
           -83.040209,
           42.390414
          ],
          "type": "Point"
         },
         "properties": {
          "City": "DETROIT                       ",
          "Store": "YEMEN ISLAMIC MARKET                              "
         },
         "type": "Feature"
        },
        {
         "geometry": {
          "coordinates": [
           -82.970799,
           42.387531
          ],
          "type": "Point"
         },
         "properties": {
          "City": "DETROIT                       ",
          "Store": "STEVES PRODUCE PLUS                               "
         },
         "type": "Feature"
        },
        {
         "geometry": {
          "coordinates": [
           -83.05334,
           42.41907
          ],
          "type": "Point"
         },
         "properties": {
          "City": "DETROIT                       ",
          "Store": "SUPER 6 MARKET                                    "
         },
         "type": "Feature"
        },
        {
         "geometry": {
          "coordinates": [
           -83.057777,
           42.358894
          ],
          "type": "Point"
         },
         "properties": {
          "City": "DETROIT                       ",
          "Store": "FOOD PRIDE SUPER MARKET                           "
         },
         "type": "Feature"
        },
        {
         "geometry": {
          "coordinates": [
           -83.016287,
           42.436565
          ],
          "type": "Point"
         },
         "properties": {
          "City": "DETROIT                       ",
          "Store": "JOE RNDAZZOS FRT VEGETABLE INC                    "
         },
         "type": "Feature"
        },
        {
         "geometry": {
          "coordinates": [
           -83.099983,
           42.353367
          ],
          "type": "Point"
         },
         "properties": {
          "City": "DETROIT                       ",
          "Store": "MY THREE SONS INC                                 "
         },
         "type": "Feature"
        },
        {
         "geometry": {
          "coordinates": [
           -83.043197,
           42.405462
          ],
          "type": "Point"
         },
         "properties": {
          "City": "DETROIT                       ",
          "Store": "E R & G INC                                       "
         },
         "type": "Feature"
        },
        {
         "geometry": {
          "coordinates": [
           -83.111463,
           42.315265
          ],
          "type": "Point"
         },
         "properties": {
          "City": "DETROIT                       ",
          "Store": "JFK PRODUCE INC                                   "
         },
         "type": "Feature"
        },
        {
         "geometry": {
          "coordinates": [
           -83.132455,
           42.344161
          ],
          "type": "Point"
         },
         "properties": {
          "City": "DETROIT                       ",
          "Store": "METRO SUPER MARKET INC                            "
         },
         "type": "Feature"
        },
        {
         "geometry": {
          "coordinates": [
           -83.1205,
           42.314
          ],
          "type": "Point"
         },
         "properties": {
          "City": "DETROIT                       ",
          "Store": "SUPER MERCADO LA-PIEDAD                           "
         },
         "type": "Feature"
        },
        {
         "geometry": {
          "coordinates": [
           -83.121924,
           42.313335
          ],
          "type": "Point"
         },
         "properties": {
          "City": "DETROIT                       ",
          "Store": "LA FIESTA MARKET                                  "
         },
         "type": "Feature"
        },
        {
         "geometry": {
          "coordinates": [
           -83.19691,
           42.349418
          ],
          "type": "Point"
         },
         "properties": {
          "City": "DETROIT                       ",
          "Store": "FRESCO PRODUCE & NURSERY                          "
         },
         "type": "Feature"
        },
        {
         "geometry": {
          "coordinates": [
           -83.146019,
           42.330479
          ],
          "type": "Point"
         },
         "properties": {
          "City": "DETROIT                       ",
          "Store": "NEW MICHIGAN FOOD CTR INC                         "
         },
         "type": "Feature"
        },
        {
         "geometry": {
          "coordinates": [
           -82.9911,
           42.354
          ],
          "type": "Point"
         },
         "properties": {
          "City": "DETROIT                       ",
          "Store": "MARKET INDIAN VILLAGE                             "
         },
         "type": "Feature"
        },
        {
         "geometry": {
          "coordinates": [
           -83.0094,
           42.3863
          ],
          "type": "Point"
         },
         "properties": {
          "City": "DETROIT                       ",
          "Store": "SUPER GIANT SUPER MARKET                          "
         },
         "type": "Feature"
        },
        {
         "geometry": {
          "coordinates": [
           -83.073721,
           42.387958
          ],
          "type": "Point"
         },
         "properties": {
          "City": "DETROIT                       ",
          "Store": "OAKLAND FOOD CENTER                               "
         },
         "type": "Feature"
        },
        {
         "geometry": {
          "coordinates": [
           -83.1333,
           42.3663
          ],
          "type": "Point"
         },
         "properties": {
          "City": "DETROIT                       ",
          "Store": "MAYFAIR FOOD MARKET INC                           "
         },
         "type": "Feature"
        },
        {
         "geometry": {
          "coordinates": [
           -82.948833,
           42.386489
          ],
          "type": "Point"
         },
         "properties": {
          "City": "DETROIT                       ",
          "Store": "Aldi Food Store"
         },
         "type": "Feature"
        },
        {
         "geometry": {
          "coordinates": [
           -82.96959,
           42.44891
          ],
          "type": "Point"
         },
         "properties": {
          "City": "DETROIT                       ",
          "Store": "Aldi Food Store"
         },
         "type": "Feature"
        },
        {
         "geometry": {
          "coordinates": [
           -83.082609,
           42.382804
          ],
          "type": "Point"
         },
         "properties": {
          "City": "DETROIT                       ",
          "Store": "King Cole Foods"
         },
         "type": "Feature"
        },
        {
         "geometry": {
          "coordinates": [
           -83.09769,
           42.319167
          ],
          "type": "Point"
         },
         "properties": {
          "City": "DETROIT                       ",
          "Store": "La Fiesta Market"
         },
         "type": "Feature"
        }
       ],
       "type": "FeatureCollection"
      },
      "text/plain": [
       "<IPython.display.GeoJSON object>"
      ]
     },
     "metadata": {
      "application/geo+json": {
       "expanded": false,
       "root": "root"
      }
     },
     "output_type": "display_data"
    }
   ],
   "source": [
    "stores"
   ]
  },
  {
   "cell_type": "code",
   "execution_count": null,
   "id": "4b39b8b3-cf0b-436a-a690-4a4243d92bc2",
   "metadata": {},
   "outputs": [],
   "source": []
  }
 ],
 "metadata": {
  "kernelspec": {
   "display_name": "Python 3 (ipykernel)",
   "language": "python",
   "name": "python3"
  },
  "language_info": {
   "codemirror_mode": {
    "name": "ipython",
    "version": 3
   },
   "file_extension": ".py",
   "mimetype": "text/x-python",
   "name": "python",
   "nbconvert_exporter": "python",
   "pygments_lexer": "ipython3",
   "version": "3.11.5"
  }
 },
 "nbformat": 4,
 "nbformat_minor": 5
}
