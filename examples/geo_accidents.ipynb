{
 "cells": [
  {
   "cell_type": "code",
   "execution_count": 1,
   "id": "75e0b5b8-7c9e-413a-a208-fc05f1c65669",
   "metadata": {},
   "outputs": [],
   "source": [
    "import pandas as pd\n",
    "from IPython.display import GeoJSON"
   ]
  },
  {
   "cell_type": "markdown",
   "id": "77745df4-ef7c-4230-b3f8-b40f2b304b32",
   "metadata": {},
   "source": [
    "### Datasource : Dataset\n",
    "\n",
    "Crash Data Report (detail)\n",
    "\n",
    "Update 3/16/2023: Please note that 2021-2022 data are incomplete and will be updated as additional \n",
    "records become available.Fatal and serious injury crashes are not “accidents” and are preventable.\n",
    "\n",
    "https://data.tempe.gov/datasets/tempegov::1-08-crash-data-report-detail.csv\n",
    "\n",
    "We can get the CSV file and create the dataframe using the URL.\r\n",
    "\r\n",
    "Or, we can download thCSV e Fisv and use it to create the dataframe."
   ]
  },
  {
   "cell_type": "code",
   "execution_count": 2,
   "id": "f48b4ae4-4d75-4a88-86e4-6ced195e0158",
   "metadata": {},
   "outputs": [],
   "source": [
    "data = pd.read_csv(\"https://data.tempe.gov/datasets/tempegov::1-08-crash-data-report-detail.csv\")"
   ]
  },
  {
   "cell_type": "code",
   "execution_count": 3,
   "id": "e4a1dbb3-38e5-4d79-b6cc-9d29a551d42f",
   "metadata": {},
   "outputs": [
    {
     "data": {
      "text/plain": [
       "43998"
      ]
     },
     "execution_count": 3,
     "metadata": {},
     "output_type": "execute_result"
    }
   ],
   "source": [
    "len(data)"
   ]
  },
  {
   "cell_type": "markdown",
   "id": "dad8ed42-1f00-40d8-8148-270929b799bd",
   "metadata": {},
   "source": [
    "#### Cleaning data"
   ]
  },
  {
   "cell_type": "code",
   "execution_count": 4,
   "id": "382f2f1e-d58d-4de5-807e-1a8e7e292c60",
   "metadata": {},
   "outputs": [],
   "source": [
    "data = data.dropna()"
   ]
  },
  {
   "cell_type": "code",
   "execution_count": 5,
   "id": "8854e560-df63-4b6b-a8bf-2992dcdb58cb",
   "metadata": {},
   "outputs": [
    {
     "data": {
      "text/plain": [
       "39107"
      ]
     },
     "execution_count": 5,
     "metadata": {},
     "output_type": "execute_result"
    }
   ],
   "source": [
    "len(data)"
   ]
  },
  {
   "cell_type": "code",
   "execution_count": 6,
   "id": "ef2914e0-2659-40fa-a34c-e587f3d27d0b",
   "metadata": {},
   "outputs": [
    {
     "data": {
      "text/html": [
       "<div>\n",
       "<style scoped>\n",
       "    .dataframe tbody tr th:only-of-type {\n",
       "        vertical-align: middle;\n",
       "    }\n",
       "\n",
       "    .dataframe tbody tr th {\n",
       "        vertical-align: top;\n",
       "    }\n",
       "\n",
       "    .dataframe thead th {\n",
       "        text-align: right;\n",
       "    }\n",
       "</style>\n",
       "<table border=\"1\" class=\"dataframe\">\n",
       "  <thead>\n",
       "    <tr style=\"text-align: right;\">\n",
       "      <th></th>\n",
       "      <th>X</th>\n",
       "      <th>Y</th>\n",
       "      <th>OBJECTID</th>\n",
       "      <th>Incidentid</th>\n",
       "      <th>DateTime</th>\n",
       "      <th>Year</th>\n",
       "      <th>StreetName</th>\n",
       "      <th>CrossStreet</th>\n",
       "      <th>Distance</th>\n",
       "      <th>JunctionRelation</th>\n",
       "      <th>...</th>\n",
       "      <th>Unittype_Two</th>\n",
       "      <th>Age_Drv2</th>\n",
       "      <th>Gender_Drv2</th>\n",
       "      <th>Traveldirection_Two</th>\n",
       "      <th>Unitaction_Two</th>\n",
       "      <th>Violation1_Drv2</th>\n",
       "      <th>AlcoholUse_Drv2</th>\n",
       "      <th>DrugUse_Drv2</th>\n",
       "      <th>Latitude</th>\n",
       "      <th>Longitude</th>\n",
       "    </tr>\n",
       "  </thead>\n",
       "  <tbody>\n",
       "    <tr>\n",
       "      <th>1</th>\n",
       "      <td>-111.909513</td>\n",
       "      <td>33.434986</td>\n",
       "      <td>2</td>\n",
       "      <td>2584442</td>\n",
       "      <td>2012/01/10 14:55:00+00</td>\n",
       "      <td>2012</td>\n",
       "      <td>Mcclintock Dr</td>\n",
       "      <td>State Route 202 Exit 8 A-Ramp</td>\n",
       "      <td>-533.808</td>\n",
       "      <td>Intersection Related Non Interchange</td>\n",
       "      <td>...</td>\n",
       "      <td>Driver</td>\n",
       "      <td>21.0</td>\n",
       "      <td>Female</td>\n",
       "      <td>North</td>\n",
       "      <td>Stopped In Trafficway</td>\n",
       "      <td>No Improper Action</td>\n",
       "      <td>No Apparent Influence</td>\n",
       "      <td>No Apparent Influence</td>\n",
       "      <td>33.434986</td>\n",
       "      <td>-111.909513</td>\n",
       "    </tr>\n",
       "    <tr>\n",
       "      <th>2</th>\n",
       "      <td>-111.961282</td>\n",
       "      <td>33.381066</td>\n",
       "      <td>3</td>\n",
       "      <td>2589844</td>\n",
       "      <td>2012/01/10 15:43:00+00</td>\n",
       "      <td>2012</td>\n",
       "      <td>Priest Dr</td>\n",
       "      <td>Darrow Dr</td>\n",
       "      <td>170.016</td>\n",
       "      <td>Not Junction Related</td>\n",
       "      <td>...</td>\n",
       "      <td>Driver</td>\n",
       "      <td>56.0</td>\n",
       "      <td>Female</td>\n",
       "      <td>South</td>\n",
       "      <td>Going Straight Ahead</td>\n",
       "      <td>No Improper Action</td>\n",
       "      <td>No Apparent Influence</td>\n",
       "      <td>No Apparent Influence</td>\n",
       "      <td>33.381066</td>\n",
       "      <td>-111.961282</td>\n",
       "    </tr>\n",
       "    <tr>\n",
       "      <th>3</th>\n",
       "      <td>-111.892579</td>\n",
       "      <td>33.378452</td>\n",
       "      <td>4</td>\n",
       "      <td>2579417</td>\n",
       "      <td>2012/01/10 16:04:00+00</td>\n",
       "      <td>2012</td>\n",
       "      <td>Baseline Rd</td>\n",
       "      <td>Price Rd</td>\n",
       "      <td>-24.816</td>\n",
       "      <td>Intersection Related Interchange</td>\n",
       "      <td>...</td>\n",
       "      <td>Driver</td>\n",
       "      <td>62.0</td>\n",
       "      <td>Male</td>\n",
       "      <td>East</td>\n",
       "      <td>Going Straight Ahead</td>\n",
       "      <td>No Improper Action</td>\n",
       "      <td>No Apparent Influence</td>\n",
       "      <td>No Apparent Influence</td>\n",
       "      <td>33.378452</td>\n",
       "      <td>-111.892579</td>\n",
       "    </tr>\n",
       "  </tbody>\n",
       "</table>\n",
       "<p>3 rows × 35 columns</p>\n",
       "</div>"
      ],
      "text/plain": [
       "            X          Y  OBJECTID  Incidentid                DateTime  Year  \\\n",
       "1 -111.909513  33.434986         2     2584442  2012/01/10 14:55:00+00  2012   \n",
       "2 -111.961282  33.381066         3     2589844  2012/01/10 15:43:00+00  2012   \n",
       "3 -111.892579  33.378452         4     2579417  2012/01/10 16:04:00+00  2012   \n",
       "\n",
       "      StreetName                    CrossStreet  Distance  \\\n",
       "1  Mcclintock Dr  State Route 202 Exit 8 A-Ramp  -533.808   \n",
       "2      Priest Dr                      Darrow Dr   170.016   \n",
       "3    Baseline Rd                       Price Rd   -24.816   \n",
       "\n",
       "                       JunctionRelation  ...  Unittype_Two  Age_Drv2  \\\n",
       "1  Intersection Related Non Interchange  ...        Driver      21.0   \n",
       "2                  Not Junction Related  ...        Driver      56.0   \n",
       "3      Intersection Related Interchange  ...        Driver      62.0   \n",
       "\n",
       "  Gender_Drv2 Traveldirection_Two         Unitaction_Two     Violation1_Drv2  \\\n",
       "1      Female               North  Stopped In Trafficway  No Improper Action   \n",
       "2      Female               South   Going Straight Ahead  No Improper Action   \n",
       "3        Male                East   Going Straight Ahead  No Improper Action   \n",
       "\n",
       "         AlcoholUse_Drv2           DrugUse_Drv2   Latitude   Longitude  \n",
       "1  No Apparent Influence  No Apparent Influence  33.434986 -111.909513  \n",
       "2  No Apparent Influence  No Apparent Influence  33.381066 -111.961282  \n",
       "3  No Apparent Influence  No Apparent Influence  33.378452 -111.892579  \n",
       "\n",
       "[3 rows x 35 columns]"
      ]
     },
     "execution_count": 6,
     "metadata": {},
     "output_type": "execute_result"
    }
   ],
   "source": [
    "data.head(3)"
   ]
  },
  {
   "cell_type": "code",
   "execution_count": 7,
   "id": "86483cf5-b318-4acd-8bb0-85298ee50390",
   "metadata": {},
   "outputs": [],
   "source": [
    "features = []\n",
    "for _, event in data.iterrows():\n",
    "    feature =  {\n",
    "        \"type\": \"Feature\",\n",
    "        \"geometry\": {\"type\": \"Point\", \"coordinates\": [event.X, event.Y]},\n",
    "        \"properties\": {\"Year\": event.Year, \"StreetName\": event.StreetName}\n",
    "    }\n",
    "    features.append(feature)"
   ]
  },
  {
   "cell_type": "code",
   "execution_count": 8,
   "id": "5ee0aee5-d19c-4704-a159-d940096a680a",
   "metadata": {},
   "outputs": [],
   "source": [
    "events = GeoJSON(\n",
    "    {\n",
    "        \"type\": \"FeatureCollection\",\n",
    "        \"features\": features[:100]\n",
    "    }\n",
    ")"
   ]
  },
  {
   "cell_type": "code",
   "execution_count": 9,
   "id": "c6ff516f-635f-451b-817e-52412fa55f51",
   "metadata": {},
   "outputs": [
    {
     "data": {
      "application/geo+json": {
       "features": [
        {
         "geometry": {
          "coordinates": [
           -111.9095128,
           33.4349858800001
          ],
          "type": "Point"
         },
         "properties": {
          "StreetName": "Mcclintock Dr",
          "Year": 2012
         },
         "type": "Feature"
        },
        {
         "geometry": {
          "coordinates": [
           -111.961282,
           33.3810656000001
          ],
          "type": "Point"
         },
         "properties": {
          "StreetName": "Priest Dr",
          "Year": 2012
         },
         "type": "Feature"
        },
        {
         "geometry": {
          "coordinates": [
           -111.8925789,
           33.3784516600001
          ],
          "type": "Point"
         },
         "properties": {
          "StreetName": "Baseline Rd",
          "Year": 2012
         },
         "type": "Feature"
        },
        {
         "geometry": {
          "coordinates": [
           -111.8940424,
           33.3929860100001
          ],
          "type": "Point"
         },
         "properties": {
          "StreetName": "Southern Ave",
          "Year": 2012
         },
         "type": "Feature"
        },
        {
         "geometry": {
          "coordinates": [
           -111.9165324,
           33.4075017000001
          ],
          "type": "Point"
         },
         "properties": {
          "StreetName": "Broadway Rd",
          "Year": 2012
         },
         "type": "Feature"
        },
        {
         "geometry": {
          "coordinates": [
           -111.9609523,
           33.42730205
          ],
          "type": "Point"
         },
         "properties": {
          "StreetName": "Priest Dr",
          "Year": 2012
         },
         "type": "Feature"
        },
        {
         "geometry": {
          "coordinates": [
           -111.9522116,
           33.42190701
          ],
          "type": "Point"
         },
         "properties": {
          "StreetName": "University Dr",
          "Year": 2012
         },
         "type": "Feature"
        },
        {
         "geometry": {
          "coordinates": [
           -111.9397351,
           33.40285112
          ],
          "type": "Point"
         },
         "properties": {
          "StreetName": "Mill Ave",
          "Year": 2012
         },
         "type": "Feature"
        },
        {
         "geometry": {
          "coordinates": [
           -111.8919583,
           33.41841917
          ],
          "type": "Point"
         },
         "properties": {
          "StreetName": "Price Rd",
          "Year": 2012
         },
         "type": "Feature"
        },
        {
         "geometry": {
          "coordinates": [
           -111.9400229,
           33.42941375
          ],
          "type": "Point"
         },
         "properties": {
          "StreetName": "Mill Ave",
          "Year": 2012
         },
         "type": "Feature"
        },
        {
         "geometry": {
          "coordinates": [
           -111.9284738,
           33.34955648
          ],
          "type": "Point"
         },
         "properties": {
          "StreetName": "Rural Rd",
          "Year": 2012
         },
         "type": "Feature"
        },
        {
         "geometry": {
          "coordinates": [
           -111.9263144,
           33.39350646
          ],
          "type": "Point"
         },
         "properties": {
          "StreetName": "Rural Rd",
          "Year": 2012
         },
         "type": "Feature"
        },
        {
         "geometry": {
          "coordinates": [
           -111.9068357,
           33.3491666400001
          ],
          "type": "Point"
         },
         "properties": {
          "StreetName": "Elliot Rd",
          "Year": 2012
         },
         "type": "Feature"
        },
        {
         "geometry": {
          "coordinates": [
           -111.8936704,
           33.42204895
          ],
          "type": "Point"
         },
         "properties": {
          "StreetName": "University Dr",
          "Year": 2012
         },
         "type": "Feature"
        },
        {
         "geometry": {
          "coordinates": [
           -111.9264478,
           33.38706239
          ],
          "type": "Point"
         },
         "properties": {
          "StreetName": "Rural Rd",
          "Year": 2012
         },
         "type": "Feature"
        },
        {
         "geometry": {
          "coordinates": [
           -111.9286762,
           33.3782447900001
          ],
          "type": "Point"
         },
         "properties": {
          "StreetName": "Baseline Rd",
          "Year": 2012
         },
         "type": "Feature"
        },
        {
         "geometry": {
          "coordinates": [
           -111.9735855,
           33.4084456100001
          ],
          "type": "Point"
         },
         "properties": {
          "StreetName": "Broadway Rd",
          "Year": 2012
         },
         "type": "Feature"
        },
        {
         "geometry": {
          "coordinates": [
           -111.9262857,
           33.41683268
          ],
          "type": "Point"
         },
         "properties": {
          "StreetName": "Rural Rd",
          "Year": 2012
         },
         "type": "Feature"
        },
        {
         "geometry": {
          "coordinates": [
           -111.960931,
           33.43714406
          ],
          "type": "Point"
         },
         "properties": {
          "StreetName": "Priest Dr",
          "Year": 2012
         },
         "type": "Feature"
        },
        {
         "geometry": {
          "coordinates": [
           -111.9399968,
           33.42350335
          ],
          "type": "Point"
         },
         "properties": {
          "StreetName": "Mill Ave",
          "Year": 2012
         },
         "type": "Feature"
        },
        {
         "geometry": {
          "coordinates": [
           -111.906248,
           33.3346795900001
          ],
          "type": "Point"
         },
         "properties": {
          "StreetName": "Warner Rd",
          "Year": 2012
         },
         "type": "Feature"
        },
        {
         "geometry": {
          "coordinates": [
           -111.9103408,
           33.37841912
          ],
          "type": "Point"
         },
         "properties": {
          "StreetName": "Baseline Rd",
          "Year": 2012
         },
         "type": "Feature"
        },
        {
         "geometry": {
          "coordinates": [
           -111.9090966,
           33.42076545
          ],
          "type": "Point"
         },
         "properties": {
          "StreetName": "Mcclintock Dr",
          "Year": 2012
         },
         "type": "Feature"
        },
        {
         "geometry": {
          "coordinates": [
           -111.9397066,
           33.39285836
          ],
          "type": "Point"
         },
         "properties": {
          "StreetName": "Southern Ave",
          "Year": 2012
         },
         "type": "Feature"
        },
        {
         "geometry": {
          "coordinates": [
           -111.9457245,
           33.3498400400001
          ],
          "type": "Point"
         },
         "properties": {
          "StreetName": "Kyrene Rd",
          "Year": 2012
         },
         "type": "Feature"
        },
        {
         "geometry": {
          "coordinates": [
           -111.9378834,
           33.3928749300001
          ],
          "type": "Point"
         },
         "properties": {
          "StreetName": "Southern Ave",
          "Year": 2012
         },
         "type": "Feature"
        },
        {
         "geometry": {
          "coordinates": [
           -111.9672092,
           33.37829186
          ],
          "type": "Point"
         },
         "properties": {
          "StreetName": "Baseline Rd",
          "Year": 2012
         },
         "type": "Feature"
        },
        {
         "geometry": {
          "coordinates": [
           -111.8924272,
           33.3349250200001
          ],
          "type": "Point"
         },
         "properties": {
          "StreetName": "Warner Rd",
          "Year": 2012
         },
         "type": "Feature"
        },
        {
         "geometry": {
          "coordinates": [
           -111.9262716,
           33.4074991000001
          ],
          "type": "Point"
         },
         "properties": {
          "StreetName": "Rural Rd",
          "Year": 2012
         },
         "type": "Feature"
        },
        {
         "geometry": {
          "coordinates": [
           -111.9262452,
           33.4354393400001
          ],
          "type": "Point"
         },
         "properties": {
          "StreetName": "Scottsdale Rd",
          "Year": 2012
         },
         "type": "Feature"
        },
        {
         "geometry": {
          "coordinates": [
           -111.9262884,
           33.41932946
          ],
          "type": "Point"
         },
         "properties": {
          "StreetName": "Rural Rd",
          "Year": 2012
         },
         "type": "Feature"
        },
        {
         "geometry": {
          "coordinates": [
           -111.9399998,
           33.4241088900001
          ],
          "type": "Point"
         },
         "properties": {
          "StreetName": "Mill Ave",
          "Year": 2012
         },
         "type": "Feature"
        },
        {
         "geometry": {
          "coordinates": [
           -111.9111748,
           33.34912568
          ],
          "type": "Point"
         },
         "properties": {
          "StreetName": "Mcclintock Dr",
          "Year": 2012
         },
         "type": "Feature"
        },
        {
         "geometry": {
          "coordinates": [
           -111.9607786,
           33.4099393600001
          ],
          "type": "Point"
         },
         "properties": {
          "StreetName": "Priest Dr",
          "Year": 2012
         },
         "type": "Feature"
        },
        {
         "geometry": {
          "coordinates": [
           -111.9262805,
           33.4142904300001
          ],
          "type": "Point"
         },
         "properties": {
          "StreetName": "Rural Rd",
          "Year": 2012
         },
         "type": "Feature"
        },
        {
         "geometry": {
          "coordinates": [
           -111.9695178,
           33.41099274
          ],
          "type": "Point"
         },
         "properties": {
          "StreetName": "52nd St",
          "Year": 2012
         },
         "type": "Feature"
        },
        {
         "geometry": {
          "coordinates": [
           -111.9088972,
           33.42927783
          ],
          "type": "Point"
         },
         "properties": {
          "StreetName": "Rio Salado Pkwy",
          "Year": 2012
         },
         "type": "Feature"
        },
        {
         "geometry": {
          "coordinates": [
           -111.9251908,
           33.40750897
          ],
          "type": "Point"
         },
         "properties": {
          "StreetName": "Broadway Rd",
          "Year": 2012
         },
         "type": "Feature"
        },
        {
         "geometry": {
          "coordinates": [
           -111.9735855,
           33.4084456100001
          ],
          "type": "Point"
         },
         "properties": {
          "StreetName": "Broadway Rd",
          "Year": 2012
         },
         "type": "Feature"
        },
        {
         "geometry": {
          "coordinates": [
           -111.939304,
           33.3928621000001
          ],
          "type": "Point"
         },
         "properties": {
          "StreetName": "Southern Ave",
          "Year": 2012
         },
         "type": "Feature"
        },
        {
         "geometry": {
          "coordinates": [
           -111.9466622,
           33.3548207100001
          ],
          "type": "Point"
         },
         "properties": {
          "StreetName": "Grove Pkwy",
          "Year": 2012
         },
         "type": "Feature"
        },
        {
         "geometry": {
          "coordinates": [
           -111.9676855,
           33.37828899
          ],
          "type": "Point"
         },
         "properties": {
          "StreetName": "Baseline Rd",
          "Year": 2012
         },
         "type": "Feature"
        },
        {
         "geometry": {
          "coordinates": [
           -111.8872895,
           33.4147979800001
          ],
          "type": "Point"
         },
         "properties": {
          "StreetName": "Apache Blvd",
          "Year": 2012
         },
         "type": "Feature"
        },
        {
         "geometry": {
          "coordinates": [
           -111.9695225,
           33.4092417000001
          ],
          "type": "Point"
         },
         "properties": {
          "StreetName": "Broadway Rd",
          "Year": 2012
         },
         "type": "Feature"
        },
        {
         "geometry": {
          "coordinates": [
           -111.9074752,
           33.4074933200001
          ],
          "type": "Point"
         },
         "properties": {
          "StreetName": "Broadway Rd",
          "Year": 2012
         },
         "type": "Feature"
        },
        {
         "geometry": {
          "coordinates": [
           -111.9783668,
           33.38548036
          ],
          "type": "Point"
         },
         "properties": {
          "StreetName": "48th St",
          "Year": 2012
         },
         "type": "Feature"
        },
        {
         "geometry": {
          "coordinates": [
           -111.9095923,
           33.4362043100001
          ],
          "type": "Point"
         },
         "properties": {
          "StreetName": "Mcclintock Dr",
          "Year": 2012
         },
         "type": "Feature"
        },
        {
         "geometry": {
          "coordinates": [
           -111.9092004,
           33.3838794000001
          ],
          "type": "Point"
         },
         "properties": {
          "StreetName": "Mcclintock Dr",
          "Year": 2012
         },
         "type": "Feature"
        },
        {
         "geometry": {
          "coordinates": [
           -111.926259,
           33.4374134400001
          ],
          "type": "Point"
         },
         "properties": {
          "StreetName": "Scottsdale Rd",
          "Year": 2012
         },
         "type": "Feature"
        },
        {
         "geometry": {
          "coordinates": [
           -111.9262516,
           33.4340321600001
          ],
          "type": "Point"
         },
         "properties": {
          "StreetName": "Rural Rd",
          "Year": 2012
         },
         "type": "Feature"
        },
        {
         "geometry": {
          "coordinates": [
           -111.9112468,
           33.3641171800001
          ],
          "type": "Point"
         },
         "properties": {
          "StreetName": "Mcclintock Dr",
          "Year": 2012
         },
         "type": "Feature"
        },
        {
         "geometry": {
          "coordinates": [
           -111.9262716,
           33.4074991000001
          ],
          "type": "Point"
         },
         "properties": {
          "StreetName": "Rural Rd",
          "Year": 2012
         },
         "type": "Feature"
        },
        {
         "geometry": {
          "coordinates": [
           -111.9286637,
           33.39294212
          ],
          "type": "Point"
         },
         "properties": {
          "StreetName": "Southern Ave",
          "Year": 2012
         },
         "type": "Feature"
        },
        {
         "geometry": {
          "coordinates": [
           -111.950301,
           33.3493104900001
          ],
          "type": "Point"
         },
         "properties": {
          "StreetName": "Roosevelt St",
          "Year": 2012
         },
         "type": "Feature"
        },
        {
         "geometry": {
          "coordinates": [
           -111.9399631,
           33.42048899
          ],
          "type": "Point"
         },
         "properties": {
          "StreetName": "Mill Ave",
          "Year": 2012
         },
         "type": "Feature"
        },
        {
         "geometry": {
          "coordinates": [
           -111.939592,
           33.3928593300001
          ],
          "type": "Point"
         },
         "properties": {
          "StreetName": "Mill Ave",
          "Year": 2012
         },
         "type": "Feature"
        },
        {
         "geometry": {
          "coordinates": [
           -111.9264573,
           33.45078375
          ],
          "type": "Point"
         },
         "properties": {
          "StreetName": "Scottsdale Rd",
          "Year": 2012
         },
         "type": "Feature"
        },
        {
         "geometry": {
          "coordinates": [
           -111.8903211,
           33.4070844500001
          ],
          "type": "Point"
         },
         "properties": {
          "StreetName": "Price Rd",
          "Year": 2012
         },
         "type": "Feature"
        },
        {
         "geometry": {
          "coordinates": [
           -111.911219,
           33.35950933
          ],
          "type": "Point"
         },
         "properties": {
          "StreetName": "Mcclintock Dr",
          "Year": 2012
         },
         "type": "Feature"
        },
        {
         "geometry": {
          "coordinates": [
           -111.9395859,
           33.39257394
          ],
          "type": "Point"
         },
         "properties": {
          "StreetName": "Mill Ave",
          "Year": 2012
         },
         "type": "Feature"
        },
        {
         "geometry": {
          "coordinates": [
           -111.9283685,
           33.3491865500001
          ],
          "type": "Point"
         },
         "properties": {
          "StreetName": "Elliot Rd",
          "Year": 2012
         },
         "type": "Feature"
        },
        {
         "geometry": {
          "coordinates": [
           -111.9262901,
           33.42436057
          ],
          "type": "Point"
         },
         "properties": {
          "StreetName": "Rural Rd",
          "Year": 2012
         },
         "type": "Feature"
        },
        {
         "geometry": {
          "coordinates": [
           -111.8907238,
           33.4147855300001
          ],
          "type": "Point"
         },
         "properties": {
          "StreetName": "Price Rd",
          "Year": 2012
         },
         "type": "Feature"
        },
        {
         "geometry": {
          "coordinates": [
           -111.9090955,
           33.4207410700001
          ],
          "type": "Point"
         },
         "properties": {
          "StreetName": "Mcclintock Dr",
          "Year": 2012
         },
         "type": "Feature"
        },
        {
         "geometry": {
          "coordinates": [
           -111.9292401,
           33.4256481400001
          ],
          "type": "Point"
         },
         "properties": {
          "StreetName": "Packard Dr",
          "Year": 2012
         },
         "type": "Feature"
        },
        {
         "geometry": {
          "coordinates": [
           -111.9631368,
           33.34521713
          ],
          "type": "Point"
         },
         "properties": {
          "StreetName": "Priest Dr",
          "Year": 2012
         },
         "type": "Feature"
        },
        {
         "geometry": {
          "coordinates": [
           -111.9262899,
           33.4244512600001
          ],
          "type": "Point"
         },
         "properties": {
          "StreetName": "Rural Rd",
          "Year": 2012
         },
         "type": "Feature"
        },
        {
         "geometry": {
          "coordinates": [
           -111.8924272,
           33.3349250200001
          ],
          "type": "Point"
         },
         "properties": {
          "StreetName": "Warner Rd",
          "Year": 2012
         },
         "type": "Feature"
        },
        {
         "geometry": {
          "coordinates": [
           -111.9263159,
           33.39437824
          ],
          "type": "Point"
         },
         "properties": {
          "StreetName": "Rural Rd",
          "Year": 2012
         },
         "type": "Feature"
        },
        {
         "geometry": {
          "coordinates": [
           -111.939469,
           33.3860405400001
          ],
          "type": "Point"
         },
         "properties": {
          "StreetName": "Mill Ave",
          "Year": 2012
         },
         "type": "Feature"
        },
        {
         "geometry": {
          "coordinates": [
           -111.9005072,
           33.40748502
          ],
          "type": "Point"
         },
         "properties": {
          "StreetName": "Broadway Rd",
          "Year": 2012
         },
         "type": "Feature"
        },
        {
         "geometry": {
          "coordinates": [
           -111.9381444,
           33.4219432200001
          ],
          "type": "Point"
         },
         "properties": {
          "StreetName": "University Dr",
          "Year": 2012
         },
         "type": "Feature"
        },
        {
         "geometry": {
          "coordinates": [
           -111.9442361,
           33.41777819
          ],
          "type": "Point"
         },
         "properties": {
          "StreetName": "11th St",
          "Year": 2012
         },
         "type": "Feature"
        },
        {
         "geometry": {
          "coordinates": [
           -111.9456143,
           33.40736581
          ],
          "type": "Point"
         },
         "properties": {
          "StreetName": "Broadway Rd",
          "Year": 2012
         },
         "type": "Feature"
        },
        {
         "geometry": {
          "coordinates": [
           -111.9412249,
           33.42047775
          ],
          "type": "Point"
         },
         "properties": {
          "StreetName": "9th St",
          "Year": 2012
         },
         "type": "Feature"
        },
        {
         "geometry": {
          "coordinates": [
           -111.8919583,
           33.41841917
          ],
          "type": "Point"
         },
         "properties": {
          "StreetName": "Price Rd",
          "Year": 2012
         },
         "type": "Feature"
        },
        {
         "geometry": {
          "coordinates": [
           -111.9615207,
           33.3928753800001
          ],
          "type": "Point"
         },
         "properties": {
          "StreetName": "Southern Ave",
          "Year": 2012
         },
         "type": "Feature"
        },
        {
         "geometry": {
          "coordinates": [
           -111.8987186,
           33.40749234
          ],
          "type": "Point"
         },
         "properties": {
          "StreetName": "Broadway Rd",
          "Year": 2012
         },
         "type": "Feature"
        },
        {
         "geometry": {
          "coordinates": [
           -111.9609248,
           33.3870044500001
          ],
          "type": "Point"
         },
         "properties": {
          "StreetName": "Priest Dr",
          "Year": 2012
         },
         "type": "Feature"
        },
        {
         "geometry": {
          "coordinates": [
           -111.893719,
           33.3784494000001
          ],
          "type": "Point"
         },
         "properties": {
          "StreetName": "Baseline Rd",
          "Year": 2012
         },
         "type": "Feature"
        },
        {
         "geometry": {
          "coordinates": [
           -111.9262814,
           33.41473296
          ],
          "type": "Point"
         },
         "properties": {
          "StreetName": "Rural Rd",
          "Year": 2012
         },
         "type": "Feature"
        },
        {
         "geometry": {
          "coordinates": [
           -111.9005149,
           33.40733404
          ],
          "type": "Point"
         },
         "properties": {
          "StreetName": "Country Club Way",
          "Year": 2012
         },
         "type": "Feature"
        },
        {
         "geometry": {
          "coordinates": [
           -111.9763745,
           33.3781933000001
          ],
          "type": "Point"
         },
         "properties": {
          "StreetName": "Baseline Rd",
          "Year": 2012
         },
         "type": "Feature"
        },
        {
         "geometry": {
          "coordinates": [
           -111.9283989,
           33.33449553
          ],
          "type": "Point"
         },
         "properties": {
          "StreetName": "Rural Rd",
          "Year": 2012
         },
         "type": "Feature"
        },
        {
         "geometry": {
          "coordinates": [
           -111.9396318,
           33.3832786400001
          ],
          "type": "Point"
         },
         "properties": {
          "StreetName": "Ash Ave",
          "Year": 2012
         },
         "type": "Feature"
        },
        {
         "geometry": {
          "coordinates": [
           -111.9047611,
           33.4074853600001
          ],
          "type": "Point"
         },
         "properties": {
          "StreetName": "Broadway Rd",
          "Year": 2012
         },
         "type": "Feature"
        },
        {
         "geometry": {
          "coordinates": [
           -111.9399561,
           33.4190625700001
          ],
          "type": "Point"
         },
         "properties": {
          "StreetName": "Mill Ave",
          "Year": 2012
         },
         "type": "Feature"
        },
        {
         "geometry": {
          "coordinates": [
           -111.9608042,
           33.4131670800001
          ],
          "type": "Point"
         },
         "properties": {
          "StreetName": "Priest Dr",
          "Year": 2012
         },
         "type": "Feature"
        },
        {
         "geometry": {
          "coordinates": [
           -111.9691298,
           33.37826054
          ],
          "type": "Point"
         },
         "properties": {
          "StreetName": "Baseline Rd",
          "Year": 2012
         },
         "type": "Feature"
        },
        {
         "geometry": {
          "coordinates": [
           -111.960894,
           33.42169102
          ],
          "type": "Point"
         },
         "properties": {
          "StreetName": "Priest Dr",
          "Year": 2012
         },
         "type": "Feature"
        },
        {
         "geometry": {
          "coordinates": [
           -111.9552534,
           33.37822192
          ],
          "type": "Point"
         },
         "properties": {
          "StreetName": "Baseline Rd",
          "Year": 2012
         },
         "type": "Feature"
        },
        {
         "geometry": {
          "coordinates": [
           -111.8902956,
           33.42201099
          ],
          "type": "Point"
         },
         "properties": {
          "StreetName": "University Dr",
          "Year": 2012
         },
         "type": "Feature"
        },
        {
         "geometry": {
          "coordinates": [
           -111.8900061,
           33.4293115200001
          ],
          "type": "Point"
         },
         "properties": {
          "StreetName": "Rio Salado Pkwy",
          "Year": 2012
         },
         "type": "Feature"
        },
        {
         "geometry": {
          "coordinates": [
           -111.9631261,
           33.34928583
          ],
          "type": "Point"
         },
         "properties": {
          "StreetName": "Priest Dr",
          "Year": 2012
         },
         "type": "Feature"
        },
        {
         "geometry": {
          "coordinates": [
           -111.9693149,
           33.40918305
          ],
          "type": "Point"
         },
         "properties": {
          "StreetName": "Broadway Rd",
          "Year": 2012
         },
         "type": "Feature"
        },
        {
         "geometry": {
          "coordinates": [
           -111.9398311,
           33.40812104
          ],
          "type": "Point"
         },
         "properties": {
          "StreetName": "Mill Ave",
          "Year": 2012
         },
         "type": "Feature"
        },
        {
         "geometry": {
          "coordinates": [
           -111.9686225,
           33.3782647300001
          ],
          "type": "Point"
         },
         "properties": {
          "StreetName": "Baseline Rd",
          "Year": 2012
         },
         "type": "Feature"
        },
        {
         "geometry": {
          "coordinates": [
           -111.939469,
           33.3860405400001
          ],
          "type": "Point"
         },
         "properties": {
          "StreetName": "Mill Ave",
          "Year": 2012
         },
         "type": "Feature"
        },
        {
         "geometry": {
          "coordinates": [
           -111.9686225,
           33.3782647300001
          ],
          "type": "Point"
         },
         "properties": {
          "StreetName": "Baseline Rd",
          "Year": 2012
         },
         "type": "Feature"
        },
        {
         "geometry": {
          "coordinates": [
           -111.8904387,
           33.3929411300001
          ],
          "type": "Point"
         },
         "properties": {
          "StreetName": "Southern Ave",
          "Year": 2012
         },
         "type": "Feature"
        }
       ],
       "type": "FeatureCollection"
      },
      "text/plain": [
       "<IPython.display.GeoJSON object>"
      ]
     },
     "metadata": {
      "application/geo+json": {
       "expanded": false,
       "root": "root"
      }
     },
     "output_type": "display_data"
    }
   ],
   "source": [
    "events"
   ]
  },
  {
   "cell_type": "code",
   "execution_count": null,
   "id": "60c9c012-ad69-4efd-afdb-a44a3def6feb",
   "metadata": {},
   "outputs": [],
   "source": []
  }
 ],
 "metadata": {
  "kernelspec": {
   "display_name": "Python 3 (ipykernel)",
   "language": "python",
   "name": "python3"
  },
  "language_info": {
   "codemirror_mode": {
    "name": "ipython",
    "version": 3
   },
   "file_extension": ".py",
   "mimetype": "text/x-python",
   "name": "python",
   "nbconvert_exporter": "python",
   "pygments_lexer": "ipython3",
   "version": "3.11.5"
  }
 },
 "nbformat": 4,
 "nbformat_minor": 5
}
